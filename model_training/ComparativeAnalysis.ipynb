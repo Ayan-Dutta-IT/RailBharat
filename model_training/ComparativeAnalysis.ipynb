{
  "nbformat": 4,
  "nbformat_minor": 0,
  "metadata": {
    "colab": {
      "provenance": []
    },
    "kernelspec": {
      "name": "python3",
      "display_name": "Python 3"
    },
    "language_info": {
      "name": "python"
    }
  },
  "cells": [
    {
      "cell_type": "code",
      "execution_count": null,
      "metadata": {
        "id": "MppmE_aeE-SG"
      },
      "outputs": [],
      "source": [
        "import pandas as pd\n",
        "import numpy as np\n",
        "import joblib\n",
        "from sklearn.model_selection import train_test_split\n",
        "from sklearn.feature_extraction.text import TfidfVectorizer\n",
        "from sklearn.svm import SVC\n",
        "from sklearn.neighbors import KNeighborsClassifier\n",
        "from sklearn.ensemble import RandomForestClassifier\n",
        "from sklearn.metrics import accuracy_score, classification_report\n",
        "from sklearn.metrics import confusion_matrix\n",
        "import matplotlib.pyplot as plt\n",
        "import seaborn as sns"
      ]
    },
    {
      "cell_type": "code",
      "source": [
        "# Loading Dataset\n",
        "data = pd.read_csv(\"railway_complaints.csv\")\n",
        "\n",
        "# Text and Labels\n",
        "X = data[\"Customer Complaint\"]\n",
        "y = data[\"Complaint Category\"]"
      ],
      "metadata": {
        "id": "ZMVQEX6gF06r"
      },
      "execution_count": null,
      "outputs": []
    },
    {
      "cell_type": "code",
      "source": [
        "# Text Vectorization using TF-IDF\n",
        "vectorizer = TfidfVectorizer(stop_words=\"english\", max_features=5000)\n",
        "X_tfidf = vectorizer.fit_transform(X)\n",
        "\n",
        "# Train-Test Split\n",
        "X_train, X_test, y_train, y_test = train_test_split(X_tfidf, y, test_size=0.2, random_state=42)"
      ],
      "metadata": {
        "id": "DmWAuWcEGUio"
      },
      "execution_count": null,
      "outputs": []
    },
    {
      "cell_type": "code",
      "source": [
        "#SVM Model\n",
        "svm_model = SVC(kernel=\"linear\")\n",
        "svm_model.fit(X_train, y_train)\n",
        "\n",
        "# Predictions & Evaluation\n",
        "svm_predictions = svm_model.predict(X_test)\n",
        "print(\"SVM Accuracy:\", accuracy_score(y_test, svm_predictions)*100)\n",
        "print(\"SVM Classification Report:\\n\", classification_report(y_test, svm_predictions))"
      ],
      "metadata": {
        "colab": {
          "base_uri": "https://localhost:8080/"
        },
        "id": "XDA9KB-8GZ-w",
        "outputId": "d27df89b-21f4-45d4-fe0a-7cd710a9c4f8"
      },
      "execution_count": null,
      "outputs": [
        {
          "output_type": "stream",
          "name": "stdout",
          "text": [
            "SVM Accuracy: 85.09316770186336\n",
            "SVM Classification Report:\n",
            "                                      precision    recall  f1-score   support\n",
            "\n",
            "        Coach Cleanliness & Hygiene       1.00      0.74      0.85        35\n",
            "Customer Service & Staff Complaints       0.90      0.79      0.84        24\n",
            "             Food & Catering Issues       0.87      0.81      0.84        16\n",
            "        Luggage & Belongings Issues       0.91      0.91      0.91        11\n",
            "                   Other Complaints       0.44      0.60      0.51        30\n",
            "             Seat Allocation Issues       1.00      0.92      0.96        24\n",
            "         Security & Safety Concerns       0.88      0.93      0.90        30\n",
            "     Ticketing & Reservation Issues       0.98      0.93      0.95        45\n",
            "     Train & Station Infrastructure       0.84      0.90      0.87        62\n",
            "       Train Delays & Cancellations       0.91      0.89      0.90        45\n",
            "\n",
            "                           accuracy                           0.85       322\n",
            "                          macro avg       0.87      0.84      0.85       322\n",
            "                       weighted avg       0.87      0.85      0.86       322\n",
            "\n"
          ]
        }
      ]
    },
    {
      "cell_type": "code",
      "source": [
        "#KNN Model\n",
        "knn_model = KNeighborsClassifier(n_neighbors=3)\n",
        "knn_model.fit(X_train, y_train)\n",
        "\n",
        "# Predictions & Evaluation\n",
        "knn_predictions = knn_model.predict(X_test)\n",
        "print(\"KNN Accuracy:\", accuracy_score(y_test, knn_predictions)*100)\n",
        "print(\"KNN Classification Report:\\n\", classification_report(y_test, knn_predictions))"
      ],
      "metadata": {
        "colab": {
          "base_uri": "https://localhost:8080/"
        },
        "id": "TUqTxaoLGouH",
        "outputId": "0ff6499d-d864-4e07-b03d-82ae6292d05f"
      },
      "execution_count": null,
      "outputs": [
        {
          "output_type": "stream",
          "name": "stdout",
          "text": [
            "KNN Accuracy: 76.3975155279503\n",
            "KNN Classification Report:\n",
            "                                      precision    recall  f1-score   support\n",
            "\n",
            "        Coach Cleanliness & Hygiene       0.68      0.77      0.72        35\n",
            "Customer Service & Staff Complaints       0.75      0.88      0.81        24\n",
            "             Food & Catering Issues       0.83      0.94      0.88        16\n",
            "        Luggage & Belongings Issues       0.53      0.82      0.64        11\n",
            "                   Other Complaints       0.36      0.13      0.20        30\n",
            "             Seat Allocation Issues       0.95      0.75      0.84        24\n",
            "         Security & Safety Concerns       0.79      0.87      0.83        30\n",
            "     Ticketing & Reservation Issues       0.87      0.89      0.88        45\n",
            "     Train & Station Infrastructure       0.76      0.82      0.79        62\n",
            "       Train Delays & Cancellations       0.81      0.78      0.80        45\n",
            "\n",
            "                           accuracy                           0.76       322\n",
            "                          macro avg       0.73      0.76      0.74       322\n",
            "                       weighted avg       0.75      0.76      0.75       322\n",
            "\n"
          ]
        }
      ]
    },
    {
      "cell_type": "code",
      "source": [
        "#Random Forest Classifier\n",
        "rf_model = RandomForestClassifier(n_estimators=200, random_state=42)\n",
        "rf_model.fit(X_train, y_train)\n",
        "\n",
        "# Predictions\n",
        "y_pred = rf_model.predict(X_test)\n",
        "\n",
        "# Evaluation\n",
        "accuracy = accuracy_score(y_test, y_pred)\n",
        "print(f\"Random Forest Accuracy: {accuracy*100}\")\n",
        "print(\"\\nClassification Report:\\n\", classification_report(y_test, y_pred))"
      ],
      "metadata": {
        "colab": {
          "base_uri": "https://localhost:8080/"
        },
        "id": "I4KfXC4KKL74",
        "outputId": "bfbeb46f-7152-49a1-c1d5-0fb02cc43bc3"
      },
      "execution_count": null,
      "outputs": [
        {
          "output_type": "stream",
          "name": "stdout",
          "text": [
            "Random Forest Accuracy: 86.95652173913044\n",
            "\n",
            "Classification Report:\n",
            "                                      precision    recall  f1-score   support\n",
            "\n",
            "        Coach Cleanliness & Hygiene       1.00      0.77      0.87        35\n",
            "Customer Service & Staff Complaints       0.95      0.79      0.86        24\n",
            "             Food & Catering Issues       0.93      0.81      0.87        16\n",
            "        Luggage & Belongings Issues       0.92      1.00      0.96        11\n",
            "                   Other Complaints       0.53      0.70      0.60        30\n",
            "             Seat Allocation Issues       1.00      0.96      0.98        24\n",
            "         Security & Safety Concerns       0.97      0.93      0.95        30\n",
            "     Ticketing & Reservation Issues       0.98      0.91      0.94        45\n",
            "     Train & Station Infrastructure       0.84      0.92      0.88        62\n",
            "       Train Delays & Cancellations       0.85      0.89      0.87        45\n",
            "\n",
            "                           accuracy                           0.87       322\n",
            "                          macro avg       0.90      0.87      0.88       322\n",
            "                       weighted avg       0.89      0.87      0.87       322\n",
            "\n"
          ]
        }
      ]
    }
  ]
}